{
 "cells": [
  {
   "cell_type": "code",
   "execution_count": 1,
   "metadata": {},
   "outputs": [
    {
     "name": "stdout",
     "output_type": "stream",
     "text": [
      "Enter the main string \n",
      "hello world, welcome to this world\n",
      "Enter the string to search \n",
      "world\n",
      "2\n"
     ]
    }
   ],
   "source": [
    "# Program 5 (A):Write a program to implement a function that counts the number of times a string (s1) occurs in another string (s2)\n",
    "\n",
    "def count_element(s1,s2):\n",
    "    return s2.count(s1)\n",
    "\n",
    "s2 = input(\"Enter the main string \\n\")\n",
    "s1 = input(\"Enter the string to search \\n\")\n",
    "\n",
    "print(count_element(s1,s2))\n",
    "    "
   ]
  },
  {
   "cell_type": "code",
   "execution_count": 75,
   "metadata": {},
   "outputs": [],
   "source": [
    "# Program 5 :(B) Write a program to illustrate the dictionary operations \n",
    "# ([], in, traversal) and methods ( keys(), values(), items())\n",
    "\n",
    "# Create the dictionary\n",
    "\n",
    "Dict = {'key1': 1, 'key2': 2, 'key3': [3, 3, 3], 'key4': (4, 4, 4), \n",
    "        'key5': 5, (0, 1): 6}"
   ]
  },
  {
   "cell_type": "code",
   "execution_count": 41,
   "metadata": {},
   "outputs": [
    {
     "data": {
      "text/plain": [
       "{'key1': 1,\n",
       " 'key2': 2,\n",
       " 'key3': [3, 3, 3],\n",
       " 'key4': (4, 4, 4),\n",
       " 'key5': 5,\n",
       " (0, 1): 6}"
      ]
     },
     "execution_count": 41,
     "metadata": {},
     "output_type": "execute_result"
    }
   ],
   "source": [
    "# Print dictionary\n",
    "\n",
    "Dict"
   ]
  },
  {
   "cell_type": "code",
   "execution_count": 76,
   "metadata": {},
   "outputs": [
    {
     "data": {
      "text/plain": [
       "1"
      ]
     },
     "execution_count": 76,
     "metadata": {},
     "output_type": "execute_result"
    }
   ],
   "source": [
    "# Access the value by key\n",
    "\n",
    "Dict['key1']"
   ]
  },
  {
   "cell_type": "code",
   "execution_count": 53,
   "metadata": {},
   "outputs": [
    {
     "data": {
      "text/plain": [
       "6"
      ]
     },
     "execution_count": 53,
     "metadata": {},
     "output_type": "execute_result"
    }
   ],
   "source": [
    "# Access the value by key\n",
    "\n",
    "Dict[(0, 1)]"
   ]
  },
  {
   "cell_type": "code",
   "execution_count": 95,
   "metadata": {},
   "outputs": [],
   "source": [
    "# Create a sample dictionary\n",
    "\n",
    "release_year_dict = {\"Thriller\": 1982, \"Back in Black\": 1980, \\\n",
    "                    \"The Dark Side of the Moon\": 1973, \"The Bodyguard\": 1992, \\\n",
    "                    \"Bat Out of Hell\": 1977, \"Their Greatest Hits\": 1976, \\\n",
    "                    \"Saturday Night Fever\": 1977, \"Rumours\": 1977}"
   ]
  },
  {
   "cell_type": "code",
   "execution_count": 96,
   "metadata": {},
   "outputs": [
    {
     "data": {
      "text/plain": [
       "{'Thriller': 1982,\n",
       " 'Back in Black': 1980,\n",
       " 'The Dark Side of the Moon': 1973,\n",
       " 'The Bodyguard': 1992,\n",
       " 'Bat Out of Hell': 1977,\n",
       " 'Their Greatest Hits': 1976,\n",
       " 'Saturday Night Fever': 1977,\n",
       " 'Rumours': 1977}"
      ]
     },
     "execution_count": 96,
     "metadata": {},
     "output_type": "execute_result"
    }
   ],
   "source": [
    "# Print the created dictionary \n",
    "\n",
    "release_year_dict"
   ]
  },
  {
   "cell_type": "code",
   "execution_count": 97,
   "metadata": {},
   "outputs": [
    {
     "data": {
      "text/plain": [
       "1982"
      ]
     },
     "execution_count": 97,
     "metadata": {},
     "output_type": "execute_result"
    }
   ],
   "source": [
    "# Get value by keys\n",
    "\n",
    "release_year_dict['Thriller'] "
   ]
  },
  {
   "cell_type": "code",
   "execution_count": 98,
   "metadata": {},
   "outputs": [
    {
     "data": {
      "text/plain": [
       "1992"
      ]
     },
     "execution_count": 98,
     "metadata": {},
     "output_type": "execute_result"
    }
   ],
   "source": [
    "# Get value by key\n",
    "\n",
    "release_year_dict['The Bodyguard'] "
   ]
  },
  {
   "cell_type": "code",
   "execution_count": 99,
   "metadata": {},
   "outputs": [
    {
     "data": {
      "text/plain": [
       "dict_keys(['Thriller', 'Back in Black', 'The Dark Side of the Moon', 'The Bodyguard', 'Bat Out of Hell', 'Their Greatest Hits', 'Saturday Night Fever', 'Rumours'])"
      ]
     },
     "execution_count": 99,
     "metadata": {},
     "output_type": "execute_result"
    }
   ],
   "source": [
    "# Get all the keys in dictionary using keys() method\n",
    "\n",
    "release_year_dict.keys() "
   ]
  },
  {
   "cell_type": "code",
   "execution_count": 82,
   "metadata": {},
   "outputs": [
    {
     "data": {
      "text/plain": [
       "dict_values([1982, 1980, 1973, 1992, 1977, 1976, 1977, 1977])"
      ]
     },
     "execution_count": 82,
     "metadata": {},
     "output_type": "execute_result"
    }
   ],
   "source": [
    "# Get all the values in dictionary using values() method\n",
    "\n",
    "release_year_dict.values() "
   ]
  },
  {
   "cell_type": "code",
   "execution_count": 100,
   "metadata": {},
   "outputs": [
    {
     "data": {
      "text/plain": [
       "{'Thriller': 1982,\n",
       " 'Back in Black': 1980,\n",
       " 'The Dark Side of the Moon': 1973,\n",
       " 'The Bodyguard': 1992,\n",
       " 'Bat Out of Hell': 1977,\n",
       " 'Their Greatest Hits': 1976,\n",
       " 'Saturday Night Fever': 1977,\n",
       " 'Rumours': 1977,\n",
       " 'Graduation': 2007}"
      ]
     },
     "execution_count": 100,
     "metadata": {},
     "output_type": "execute_result"
    }
   ],
   "source": [
    "# Append value with key into dictionary\n",
    "\n",
    "release_year_dict['Graduation'] = 2007\n",
    "\n",
    "# Print the updated dictionary \n",
    "\n",
    "release_year_dict"
   ]
  },
  {
   "cell_type": "code",
   "execution_count": 101,
   "metadata": {},
   "outputs": [
    {
     "data": {
      "text/plain": [
       "{'Back in Black': 1980,\n",
       " 'The Dark Side of the Moon': 1973,\n",
       " 'The Bodyguard': 1992,\n",
       " 'Bat Out of Hell': 1977,\n",
       " 'Their Greatest Hits': 1976,\n",
       " 'Saturday Night Fever': 1977,\n",
       " 'Rumours': 1977}"
      ]
     },
     "execution_count": 101,
     "metadata": {},
     "output_type": "execute_result"
    }
   ],
   "source": [
    "# Delete entries by key\n",
    "\n",
    "del(release_year_dict['Thriller'])\n",
    "del(release_year_dict['Graduation'])\n",
    "\n",
    "release_year_dict"
   ]
  },
  {
   "cell_type": "code",
   "execution_count": 102,
   "metadata": {},
   "outputs": [
    {
     "data": {
      "text/plain": [
       "True"
      ]
     },
     "execution_count": 102,
     "metadata": {},
     "output_type": "execute_result"
    }
   ],
   "source": [
    "# Verify the key is in the dictionary\n",
    "\n",
    "'The Bodyguard' in release_year_dict"
   ]
  },
  {
   "cell_type": "code",
   "execution_count": 128,
   "metadata": {},
   "outputs": [
    {
     "name": "stdout",
     "output_type": "stream",
     "text": [
      "dict_keys(['Gujarat', 'Maharashtra', 'Rajasthan', 'Bihar'])\n"
     ]
    }
   ],
   "source": [
    "# Keys () method\n",
    "\n",
    "statesandcapitals = {'Gujarat': 'Gandhinagar', 'Maharashtra': 'Mumbai', 'Rajasthan': 'Jaipur', 'Bihar': 'Patna'}\n",
    "keys = statesandcapitals.keys()\n",
    "print(keys)"
   ]
  },
  {
   "cell_type": "code",
   "execution_count": 129,
   "metadata": {},
   "outputs": [
    {
     "name": "stdout",
     "output_type": "stream",
     "text": [
      "List of given states:\n",
      "Gujarat\n",
      "Maharashtra\n",
      "Rajasthan\n",
      "Bihar\n"
     ]
    }
   ],
   "source": [
    "# Iterate through all keys in a dictionary: Traversal\n",
    "\n",
    "statesandcapitals = {'Gujarat': 'Gandhinagar', 'Maharashtra': 'Mumbai', 'Rajasthan': 'Jaipur', 'Bihar': 'Patna'}\n",
    "print('List of given states:')\n",
    "\n",
    "# Iterating over keys\n",
    "\n",
    "for state in statesandcapitals:\n",
    "    print(state)\n"
   ]
  },
  {
   "cell_type": "code",
   "execution_count": 115,
   "metadata": {},
   "outputs": [
    {
     "name": "stdout",
     "output_type": "stream",
     "text": [
      "List Of given capitals:\n",
      "Gandhinagar\n",
      "Mumbai\n",
      "Jaipur\n",
      "Patna\n"
     ]
    }
   ],
   "source": [
    "# iterate through all values in a dictionary: Traversal\n",
    "\n",
    "statesandcapitals = {'Gujarat': 'Gandhinagar', 'Maharashtra': 'Mumbai', 'Rajasthan': 'Jaipur', 'Bihar': 'Patna'}\n",
    "print('List Of given capitals:')\n",
    "\n",
    "# Iterating over values\n",
    "\n",
    "for capital in statesandcapitals.values():\n",
    "    print(capital)\n"
   ]
  },
  {
   "cell_type": "code",
   "execution_count": 123,
   "metadata": {},
   "outputs": [
    {
     "name": "stdout",
     "output_type": "stream",
     "text": [
      "List of given states and their capitals:\n",
      "Gujarat : Gandhinagar\n",
      "Maharashtra : Mumbai\n",
      "Rajasthan : Jaipur\n",
      "Bihar : Patna\n"
     ]
    }
   ],
   "source": [
    "# iterate through all key, value : Traversal\n",
    "# Pairs in a dictionary \n",
    "\n",
    "statesandcapitals = {'Gujarat': 'Gandhinagar', 'Maharashtra': 'Mumbai', 'Rajasthan': 'Jaipur', 'Bihar': 'Patna'}\n",
    "\n",
    "print('List of given states and their capitals:')\n",
    "\n",
    "# Iterating over values\n",
    "\n",
    "for state, capital in statesandcapitals.items():\n",
    "    print(state,\":\", capital)\n"
   ]
  },
  {
   "cell_type": "code",
   "execution_count": 130,
   "metadata": {},
   "outputs": [
    {
     "name": "stdout",
     "output_type": "stream",
     "text": [
      "List of given states and their capitals:\n",
      "Gujarat -> Gandhinagar\n",
      "Maharashtra -> Mumbai\n",
      "Rajasthan -> Jaipur\n",
      "Bihar -> Patna\n"
     ]
    }
   ],
   "source": [
    "# iterate through all values in a dictionary: Traversal\n",
    "\n",
    "statesandcapitals = {'Gujarat': 'Gandhinagar', 'Maharashtra': 'Mumbai', 'Rajasthan': 'Jaipur', 'Bihar': 'Patna'}\n",
    "print('List of given states and their capitals:')\n",
    "for i in statesandcapitals:\n",
    "    print(i, '->', statesandcapitals[i])"
   ]
  },
  {
   "cell_type": "code",
   "execution_count": 131,
   "metadata": {},
   "outputs": [
    {
     "name": "stdout",
     "output_type": "stream",
     "text": [
      "True\n",
      "False\n",
      "False\n",
      "True\n"
     ]
    }
   ],
   "source": [
    "# Membership operator in and not in\n",
    "\n",
    "statesandcapitals = {'Gujarat': 'Gandhinagar', 'Maharashtra': 'Mumbai', 'Rajasthan': 'Jaipur', 'Bihar': 'Patna'}\n",
    "print('Gujarat' in statesandcapitals) # return True if the key present in the dictionary\n",
    "print('Assam' in statesandcapitals) # return False if the key not present in the dictionary\n",
    "print('Gujarat' not in statesandcapitals) # return False if the key present in the dictionary\n",
    "print('Assam' not in statesandcapitals) # return True if the key not present in the dictionary"
   ]
  },
  {
   "cell_type": "code",
   "execution_count": 165,
   "metadata": {},
   "outputs": [
    {
     "name": "stdout",
     "output_type": "stream",
     "text": [
      "Enter name:ga\n",
      "Enter age:2\n",
      "Enter name:hab\n",
      "Enter age:5\n",
      "Enter name:jan\n",
      "Enter age:2\n",
      "{'ga': 2, 'hab': 5, 'jan': 2}\n",
      "Name   Age\n",
      "ga   2\n",
      "hab   5\n",
      "jan   2\n"
     ]
    }
   ],
   "source": [
    "# Write a program to read the name and age of three students and store it in dictionary \n",
    "# Print the details of the student name and age by traversing the dictionary\n",
    "\n",
    "#Create an empty dictionary\n",
    "\n",
    "student_details = {}\n",
    "\n",
    "# Iterate 3 times to take name and age\n",
    "\n",
    "for i in range(3):\n",
    "    name = input(\"Enter name:\")\n",
    "    age = int(input(\"Enter age:\"))\n",
    "    \n",
    "# Add to the dictionary student_details\n",
    "    student_details[name]=age\n",
    "\n",
    "    \n",
    "#print the dictionary details\n",
    "\n",
    "print(student_details)\n",
    "\n",
    "#Traverse the dictionary and print key and value seperated with space\n",
    "\n",
    "print('Name',' ','Age')\n",
    "for i in student_details:\n",
    "    print(i, \" \", student_details[i])"
   ]
  },
  {
   "cell_type": "code",
   "execution_count": null,
   "metadata": {},
   "outputs": [],
   "source": []
  }
 ],
 "metadata": {
  "kernelspec": {
   "display_name": "Python 3 (ipykernel)",
   "language": "python",
   "name": "python3"
  },
  "language_info": {
   "codemirror_mode": {
    "name": "ipython",
    "version": 3
   },
   "file_extension": ".py",
   "mimetype": "text/x-python",
   "name": "python",
   "nbconvert_exporter": "python",
   "pygments_lexer": "ipython3",
   "version": "3.9.4"
  }
 },
 "nbformat": 4,
 "nbformat_minor": 2
}
