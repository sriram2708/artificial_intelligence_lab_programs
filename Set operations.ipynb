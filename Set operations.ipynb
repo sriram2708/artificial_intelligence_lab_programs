{
 "cells": [
  {
   "cell_type": "code",
   "execution_count": 66,
   "id": "91f9ec3e",
   "metadata": {},
   "outputs": [
    {
     "name": "stdout",
     "output_type": "stream",
     "text": [
      "<class 'set'>\n"
     ]
    }
   ],
   "source": [
    "# Creating an empty set\n",
    "\n",
    "set1 = set()\n",
    "\n",
    "#printing the empty set\n",
    "print(set)"
   ]
  },
  {
   "cell_type": "code",
   "execution_count": 63,
   "id": "1140bd77",
   "metadata": {},
   "outputs": [
    {
     "name": "stdout",
     "output_type": "stream",
     "text": [
      "{'disco', 'rock', 'soul', 'pop', 'hard rock'}\n"
     ]
    }
   ],
   "source": [
    "# Create a set with some elements\n",
    "set1 = {\"pop\", \"rock\", \"soul\", \"hard rock\", \"rock\", \"rock\", \"disco\"}\n",
    "\n",
    "#printing the set\n",
    "print(set1)"
   ]
  },
  {
   "cell_type": "code",
   "execution_count": 7,
   "id": "03891cde",
   "metadata": {},
   "outputs": [
    {
     "name": "stdout",
     "output_type": "stream",
     "text": [
      "{'Pop', 'Michael Jackson', 'Rock', '30-Nov-82', 46.0, 'Thriller', '42:19', 1982}\n"
     ]
    }
   ],
   "source": [
    "# Convert list to set\n",
    "\n",
    "album_list = [\"Michael Jackson\", \"Thriller\", 1982, \"42:19\",\"Pop\", \"Rock\", 46.0, \"30-Nov-82\",]\n",
    "#convert  list to set\n",
    "album_set = set(album_list)\n",
    "\n",
    "#print the details\n",
    "print(album_set)"
   ]
  },
  {
   "cell_type": "code",
   "execution_count": 92,
   "id": "7d8494c6",
   "metadata": {},
   "outputs": [
    {
     "name": "stdout",
     "output_type": "stream",
     "text": [
      "{'disco', 'soul', 'folk rock', 'rock', 'pop', 'soft rock', 'hard rock'}\n"
     ]
    }
   ],
   "source": [
    "# Convert list to set\n",
    "\n",
    "music = set([\"pop\", \"pop\", \"rock\", \"folk rock\", \"hard rock\", \"soul\", \"soft rock\", \"disco\"])\n",
    "print(music)\n"
   ]
  },
  {
   "cell_type": "code",
   "execution_count": 34,
   "id": "83f837e8",
   "metadata": {},
   "outputs": [
    {
     "name": "stdout",
     "output_type": "stream",
     "text": [
      "{'Black', 'AC', 'Thriller'}\n"
     ]
    }
   ],
   "source": [
    "# Set operations\n",
    "# Sample set\n",
    "\n",
    "A = set([\"Thriller\", \"Black\", \"AC\"])\n",
    "print(A)"
   ]
  },
  {
   "cell_type": "code",
   "execution_count": 35,
   "id": "ea78a1bf",
   "metadata": {},
   "outputs": [
    {
     "name": "stdout",
     "output_type": "stream",
     "text": [
      "{'Black', 'NAV', 'AC', 'Thriller'}\n"
     ]
    }
   ],
   "source": [
    "# Add element to set\n",
    "\n",
    "A.add(\"NAV\")\n",
    "\n",
    "print(A)"
   ]
  },
  {
   "cell_type": "code",
   "execution_count": 36,
   "id": "bae1f68b",
   "metadata": {},
   "outputs": [
    {
     "name": "stdout",
     "output_type": "stream",
     "text": [
      "{'Black', 'NAV', 'AC'}\n"
     ]
    }
   ],
   "source": [
    "# Remove the element from set\n",
    "\n",
    "A.remove(\"Thriller\")\n",
    "print(A)"
   ]
  },
  {
   "cell_type": "code",
   "execution_count": 37,
   "id": "e5c4157b",
   "metadata": {},
   "outputs": [
    {
     "name": "stdout",
     "output_type": "stream",
     "text": [
      "{'Black', 'AC', 'Thriller'}\n"
     ]
    }
   ],
   "source": [
    "# Copy the set\n",
    "\n",
    "A = set([\"Thriller\", \"Black\", \"AC\"])\n",
    "B = A.copy()\n",
    "print(B)"
   ]
  },
  {
   "cell_type": "code",
   "execution_count": 38,
   "id": "d772c07a",
   "metadata": {},
   "outputs": [
    {
     "name": "stdout",
     "output_type": "stream",
     "text": [
      "set()\n"
     ]
    }
   ],
   "source": [
    "# Clear all elements from the set\n",
    "\n",
    "A = set([\"Thriller\", \"Black\", \"AC\"])\n",
    "A.clear()\n",
    "\n",
    "#print the empty set\n",
    "print(A)"
   ]
  },
  {
   "cell_type": "code",
   "execution_count": 39,
   "id": "25c0007f",
   "metadata": {},
   "outputs": [
    {
     "name": "stdout",
     "output_type": "stream",
     "text": [
      "{'Black', 'AC'}\n"
     ]
    }
   ],
   "source": [
    "# Discard the element Thriller\n",
    "\n",
    "A = set([\"Thriller\", \"Black\", \"AC\"])\n",
    "A.discard('Thriller')\n",
    "print(A)"
   ]
  },
  {
   "cell_type": "code",
   "execution_count": 40,
   "id": "6fd44da8",
   "metadata": {},
   "outputs": [
    {
     "name": "stdout",
     "output_type": "stream",
     "text": [
      "True\n",
      "False\n"
     ]
    }
   ],
   "source": [
    "# Membership: in and not in\n",
    "# Verify if the element is in the set\n",
    "\n",
    "print(\"AC\" in A) #True if the element present in the set\n",
    "\n",
    "print(\"AC\" not in A) #True if the element not present in the set"
   ]
  },
  {
   "cell_type": "code",
   "execution_count": 43,
   "id": "5467be81",
   "metadata": {},
   "outputs": [
    {
     "name": "stdout",
     "output_type": "stream",
     "text": [
      "{'Black', 'AC', 'DC', 'Thriller'}\n",
      "{'Black', 'AC', 'DC', 'Moon'}\n"
     ]
    }
   ],
   "source": [
    "# Logical operations\n",
    "\n",
    "# Sample Sets\n",
    "album_set1 = set([\"Thriller\", 'AC', 'Black', 'DC'])\n",
    "album_set2 = set([ \"AC\", \"DC\", \"Black\", \"Moon\"])\n",
    "\n",
    "# Print two sets\n",
    "print(album_set1)\n",
    "print(album_set2)"
   ]
  },
  {
   "cell_type": "code",
   "execution_count": 44,
   "id": "c02a7dfb",
   "metadata": {},
   "outputs": [
    {
     "name": "stdout",
     "output_type": "stream",
     "text": [
      "{'Black', 'AC', 'DC'}\n"
     ]
    }
   ],
   "source": [
    "# Find the intersections\n",
    "\n",
    "intersection = album_set1 & album_set2\n",
    "print(intersection)"
   ]
  },
  {
   "cell_type": "code",
   "execution_count": 45,
   "id": "a9580f95",
   "metadata": {},
   "outputs": [
    {
     "name": "stdout",
     "output_type": "stream",
     "text": [
      "{'Black', 'AC', 'DC'}\n"
     ]
    }
   ],
   "source": [
    "# Use intersection method to find the intersection of album_list1 and album_list2\n",
    "\n",
    "print(album_set1.intersection(album_set2))   "
   ]
  },
  {
   "cell_type": "code",
   "execution_count": 46,
   "id": "f39adffd",
   "metadata": {},
   "outputs": [
    {
     "name": "stdout",
     "output_type": "stream",
     "text": [
      "{'Thriller'}\n"
     ]
    }
   ],
   "source": [
    "# Find the difference in set1 but not set2\n",
    "\n",
    "print(album_set1.difference(album_set2))"
   ]
  },
  {
   "cell_type": "code",
   "execution_count": 50,
   "id": "890cac92",
   "metadata": {},
   "outputs": [
    {
     "name": "stdout",
     "output_type": "stream",
     "text": [
      "{'Moon'}\n"
     ]
    }
   ],
   "source": [
    "# Find the difference in set2 but not set1\n",
    "\n",
    "print(album_set2.difference(album_set1))  "
   ]
  },
  {
   "cell_type": "code",
   "execution_count": 51,
   "id": "14250a5f",
   "metadata": {},
   "outputs": [
    {
     "name": "stdout",
     "output_type": "stream",
     "text": [
      "{'Thriller', 'Black', 'AC', 'DC', 'Moon'}\n"
     ]
    }
   ],
   "source": [
    "# Find the union of two sets\n",
    "\n",
    "print(album_set1.union(album_set2))"
   ]
  },
  {
   "cell_type": "code",
   "execution_count": 52,
   "id": "bd08c48a",
   "metadata": {},
   "outputs": [
    {
     "name": "stdout",
     "output_type": "stream",
     "text": [
      "True\n",
      "True\n"
     ]
    }
   ],
   "source": [
    "# Check if subset/superset (if all the elements of set A are present in set B, then A is a subset of B)\n",
    "\n",
    "A = {1, 2, 3}\n",
    "B = {1, 2, 3, 4, 5}\n",
    "\n",
    "# all items of A are present in B\n",
    "print(A.issubset(B))\n",
    "print(B.issuperset(A))"
   ]
  },
  {
   "cell_type": "code",
   "execution_count": 53,
   "id": "3ab2cb3e",
   "metadata": {},
   "outputs": [
    {
     "name": "stdout",
     "output_type": "stream",
     "text": [
      "False\n",
      "True\n",
      "True\n",
      "False\n"
     ]
    }
   ],
   "source": [
    "A = {1, 2, 3, 4, 5}\n",
    "B = {1, 2, 3}\n",
    "\n",
    "print(A.issubset(B))\n",
    "print(B.issubset(A))\n",
    "print(A.issuperset(B))\n",
    "print(B.issuperset(A))"
   ]
  },
  {
   "cell_type": "code",
   "execution_count": 67,
   "id": "0083c33c",
   "metadata": {},
   "outputs": [],
   "source": [
    "# Consider there is a supermarket and customers are purchasing different products. \n",
    "# Assume that two customers purchased different products. \n",
    "# Write the code to find the following:\n",
    "# i) All the products purchased by customer 1 and customer 2\n",
    "# ii) The products commonly purchased by both\n",
    "# iii) The products purchased by customer 1 and not by customer 2\n",
    "# iv) The products purchased by customer 2 and not by customer 1\n",
    "# v) Products purchased by either customer 1 or customer 2 but not both\n",
    "\n",
    "c1_basket = {'brush','paste','bread','jam','soap'}\n",
    "c2_basket = {'paste','brush','soap','washingpowder','biscuit'}"
   ]
  },
  {
   "cell_type": "code",
   "execution_count": 68,
   "id": "1e25428d",
   "metadata": {},
   "outputs": [
    {
     "name": "stdout",
     "output_type": "stream",
     "text": [
      "{'paste', 'biscuit', 'soap', 'jam', 'bread', 'washingpowder', 'brush'}\n",
      "{'soap', 'paste', 'brush'}\n",
      "{'jam', 'bread'}\n",
      "{'biscuit', 'washingpowder'}\n",
      "{'jam', 'washingpowder', 'bread', 'biscuit'}\n"
     ]
    }
   ],
   "source": [
    "# i) All the products purchased by customer 1 and customer 2\n",
    "print(c1_basket.union(c2_basket))\n",
    "\n",
    "# ii) The products commonly purchased by both\n",
    "print(c1_basket.intersection(c2_basket))\n",
    "\n",
    "# iii) The products purchased by customer 1 and not by customer 2\n",
    "print(c1_basket.difference(c2_basket))\n",
    "\n",
    "# iv) The products purchased by customer 2 and not by customer 1\n",
    "print(c2_basket.difference(c1_basket))\n",
    "\n",
    "# v) Products purchased by either customer 1 or customer 2 but not both\n",
    "print(c1_basket.symmetric_difference(c2_basket))"
   ]
  },
  {
   "cell_type": "code",
   "execution_count": 3,
   "id": "73ec7a78",
   "metadata": {},
   "outputs": [
    {
     "name": "stdout",
     "output_type": "stream",
     "text": [
      "True\n",
      "False\n"
     ]
    }
   ],
   "source": [
    "# Membership: in and not in\n",
    "# Verify if the element is in the set\n",
    "\n",
    "print(\"brush\" in c1_basket) #True if the element present in the set\n",
    "\n",
    "print(\"brush\" not in c1_basket) #True if the element not present in the set"
   ]
  },
  {
   "cell_type": "code",
   "execution_count": null,
   "id": "29f5ac69",
   "metadata": {},
   "outputs": [],
   "source": []
  }
 ],
 "metadata": {
  "kernelspec": {
   "display_name": "Python 3 (ipykernel)",
   "language": "python",
   "name": "python3"
  },
  "language_info": {
   "codemirror_mode": {
    "name": "ipython",
    "version": 3
   },
   "file_extension": ".py",
   "mimetype": "text/x-python",
   "name": "python",
   "nbconvert_exporter": "python",
   "pygments_lexer": "ipython3",
   "version": "3.9.4"
  }
 },
 "nbformat": 4,
 "nbformat_minor": 5
}
