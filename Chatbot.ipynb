{
 "cells": [
  {
   "cell_type": "code",
   "execution_count": 1,
   "id": "cb95ef34",
   "metadata": {},
   "outputs": [],
   "source": [
    "from tkinter import *\n",
    "from datetime import date \n",
    "import time\n",
    "root=Tk()\n",
    "\n",
    "def send():\n",
    "    send=\"you:\"+a.get()\n",
    "    text.insert('end',\"\\n\"+send)\n",
    "    if(a.get().lower()=='hi'):\n",
    "        text.insert('end','\\n'+\"Robot:hello\")\n",
    "    elif(a.get().lower()=='hey'):\n",
    "        text.insert('end', '\\n' +\"Robot:How may i help you\")\n",
    "    elif(a.get().lower()=='hello'):\n",
    "        text.insert('end', '\\n' + \"Robot: hi\")\n",
    "    elif(a.get().lower()=='how are you?'):\n",
    "        text.insert('end', '\\n' + \"Robot: I am fine. How are you?\")\n",
    "    elif(a.get().lower()==\"I am fine\"):\n",
    "        text.insert('end', '\\n' + \"Robot: Nice to hear that\")\n",
    "    elif(a.get().lower()=='how is your day'):\n",
    "        text.insert('end', '\\n' + \"Robot: Good\")\n",
    "    elif(a.get().lower()=='how can you help me'):\n",
    "        text.insert('end', '\\n' +\"Robot: What help you need?\")\n",
    "    elif(a.get().lower()=='what is your name'):\n",
    "        text.insert('end', '\\n' + \"Robot: My name is Navaneeth\")\n",
    "    elif(a.get().lower()=='are you a human'):\n",
    "        text.insert('end', '\\n' + \"Robot: No, I am a robot\")\n",
    "    elif(a.get().lower()==\"what is today's date\"):\n",
    "        text.insert('end', '\\n' +\"Robot:\"+ str(date.today()))\n",
    "    elif(a.get().lower()==\"what is the time now\"):\n",
    "        text.insert('end', '\\n' + \"Robot:\"+str(time.strftime(\"%I:%M:%S %p\")))\n",
    "    else:\n",
    "        text.insert('end', '\\n' + \"Robot: I did't get you\")\n",
    "\n",
    "        \n",
    "root.title(\"Navaneeth's Chatbot\")\n",
    "text=Text(bg=\"yellow\")\n",
    "text.grid(row=0, column=0, columnspan=2)\n",
    "a= Entry(root, width=80)\n",
    "Send=Button(root, bg='green', text=\"Send\", width=20,command=send)\n",
    "Send.grid(row=1,column=1)\n",
    "a.grid(row=1, column=0)\n",
    "root.mainloop()"
   ]
  },
  {
   "cell_type": "code",
   "execution_count": null,
   "id": "2f5b41a3",
   "metadata": {},
   "outputs": [],
   "source": []
  }
 ],
 "metadata": {
  "kernelspec": {
   "display_name": "Python 3 (ipykernel)",
   "language": "python",
   "name": "python3"
  },
  "language_info": {
   "codemirror_mode": {
    "name": "ipython",
    "version": 3
   },
   "file_extension": ".py",
   "mimetype": "text/x-python",
   "name": "python",
   "nbconvert_exporter": "python",
   "pygments_lexer": "ipython3",
   "version": "3.9.4"
  }
 },
 "nbformat": 4,
 "nbformat_minor": 5
}
