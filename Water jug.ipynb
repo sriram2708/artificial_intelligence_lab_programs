{
 "cells": [
  {
   "cell_type": "code",
   "execution_count": 2,
   "id": "aafa93f6",
   "metadata": {},
   "outputs": [
    {
     "name": "stdout",
     "output_type": "stream",
     "text": [
      "Steps: \n",
      "0 0\n",
      "5 0\n",
      "5 3\n",
      "0 3\n",
      "3 0\n",
      "3 3\n",
      "5 1\n",
      "0 1\n",
      "1 0\n",
      "1 3\n",
      "4 0\n"
     ]
    },
    {
     "data": {
      "text/plain": [
       "True"
      ]
     },
     "execution_count": 2,
     "metadata": {},
     "output_type": "execute_result"
    }
   ],
   "source": [
    "from collections import defaultdict  \n",
    "\n",
    "jug1, jug2, aim = 5, 3, 4\n",
    " \n",
    "visited = defaultdict(lambda: False) \n",
    "\n",
    "def waterJugSolver(amt1, amt2):  \n",
    "\n",
    "    if (amt1 == aim and amt2 == 0) or (amt2 == aim and amt1 == 0): \n",
    "        print(amt1, amt2) \n",
    "        return True\n",
    "\n",
    "    if visited[(amt1, amt2)] == False: \n",
    "        print(amt1, amt2) \n",
    "        visited[(amt1, amt2)] = True \n",
    "\n",
    "        return (waterJugSolver(0, amt2) or\n",
    "\n",
    "                waterJugSolver(amt1, 0) or\n",
    "\n",
    "                waterJugSolver(jug1, amt2) or\n",
    "\n",
    "                waterJugSolver(amt1, jug2) or\n",
    "\n",
    "                waterJugSolver(amt1 + min(amt2, (jug1-amt1)), amt2 - min(amt2, (jug1-amt1))) or\n",
    "\n",
    "                waterJugSolver(amt1 - min(amt1, (jug2-amt2)), amt2 + min(amt1, (jug2-amt2)))) \n",
    "\n",
    "    else: \n",
    "        return False\n",
    "\n",
    "print(\"Steps: \") \n",
    "\n",
    "waterJugSolver(0, 0)"
   ]
  }
 ],
 "metadata": {
  "kernelspec": {
   "display_name": "Python 3 (ipykernel)",
   "language": "python",
   "name": "python3"
  },
  "language_info": {
   "codemirror_mode": {
    "name": "ipython",
    "version": 3
   },
   "file_extension": ".py",
   "mimetype": "text/x-python",
   "name": "python",
   "nbconvert_exporter": "python",
   "pygments_lexer": "ipython3",
   "version": "3.9.4"
  }
 },
 "nbformat": 4,
 "nbformat_minor": 5
}
