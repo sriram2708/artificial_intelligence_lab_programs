{
 "cells": [
  {
   "cell_type": "code",
   "execution_count": 109,
   "id": "ee1a8b36",
   "metadata": {},
   "outputs": [],
   "source": [
    "# Program 2: (a) Write a python program to implement List operations (Nested List, Length,Concatenation, Membership, Iteration, Indexing and Slicing)\n",
    "\n",
    "# Program 2: (b) Write a python program to implement List methods (Append, Extend & Delete).\n"
   ]
  },
  {
   "cell_type": "code",
   "execution_count": 110,
   "id": "fcaf4040",
   "metadata": {},
   "outputs": [],
   "source": [
    "# Creation of a list\n",
    "\n",
    "names_list = ['john','raj','ram','rahim']"
   ]
  },
  {
   "cell_type": "code",
   "execution_count": 72,
   "id": "3d621bcc",
   "metadata": {},
   "outputs": [
    {
     "name": "stdout",
     "output_type": "stream",
     "text": [
      "['john', 'raj', 'ram', 'rahim']\n"
     ]
    }
   ],
   "source": [
    "# Printing the list\n",
    "\n",
    "print(names_list) "
   ]
  },
  {
   "cell_type": "code",
   "execution_count": 1,
   "id": "830d034c",
   "metadata": {},
   "outputs": [
    {
     "name": "stdout",
     "output_type": "stream",
     "text": [
      "['aaa', ['bbb', ['ccc', 'ddd'], 'eee', 'fff'], 'ggg', 'hhh']\n"
     ]
    }
   ],
   "source": [
    "# Creating a nested list\n",
    "\n",
    "L = ['aaa', ['bbb', ['ccc', 'ddd'], 'eee', 'fff'], 'ggg', 'hhh']\n",
    "\n",
    "#printing the details of the list\n",
    "print(L)"
   ]
  },
  {
   "cell_type": "code",
   "execution_count": 3,
   "id": "2a3ec80e",
   "metadata": {},
   "outputs": [
    {
     "name": "stdout",
     "output_type": "stream",
     "text": [
      "aaa\n",
      "['bbb', ['ccc', 'ddd'], 'eee', 'fff']\n"
     ]
    }
   ],
   "source": [
    "# Indexing : Positive Indexing\n",
    "\n",
    "# accessing the first element\n",
    "print(L[0])\n",
    "\n",
    "# accessing the second element\n",
    "print(L[1])\n",
    "\n",
    "# accessing the third element\n",
    "#print(L[2])\n",
    "\n",
    "# accessing the fourth element\n",
    "#print(L[3])"
   ]
  },
  {
   "cell_type": "code",
   "execution_count": 111,
   "id": "82d220c8",
   "metadata": {},
   "outputs": [
    {
     "name": "stdout",
     "output_type": "stream",
     "text": [
      "hhh\n",
      "ggg\n",
      "['bbb', ['ccc', 'ddd'], 'eee', 'fff']\n",
      "aaa\n"
     ]
    }
   ],
   "source": [
    "# Indexing : Negative Indexing\n",
    "\n",
    "# accessing the first element from right to left\n",
    "print(L[-1])\n",
    "\n",
    "# accessing the second element from right to left\n",
    "print(L[-2])\n",
    "\n",
    "# accessing the third element from right to left\n",
    "print(L[-3])\n",
    "\n",
    "# accessing the fourth element from right to left\n",
    "print(L[-4])"
   ]
  },
  {
   "cell_type": "code",
   "execution_count": 24,
   "id": "441ecc85",
   "metadata": {},
   "outputs": [
    {
     "name": "stdout",
     "output_type": "stream",
     "text": [
      "['aaa', ['bbb', ['ccc', 'ddd'], 'eee', 'fff'], 'ggg']\n",
      "['aaa', ['bbb', ['ccc', 'ddd'], 'eee', 'fff'], 'ggg', 'hhh']\n",
      "['aaa', ['bbb', ['ccc', 'ddd'], 'eee', 'fff'], 'ggg']\n",
      "['aaa', ['bbb', ['ccc', 'ddd'], 'eee', 'fff'], 'ggg', 'hhh']\n",
      "[['bbb', ['ccc', 'ddd'], 'eee', 'fff'], 'ggg', 'hhh']\n"
     ]
    }
   ],
   "source": [
    "# Slicing\n",
    "\n",
    "#printing the elements from index 0 to index 2\n",
    "print(L[0:3])\n",
    "\n",
    "#printing the elements from index 0 to end\n",
    "print(L[0:])\n",
    "\n",
    "#printing the elements from index 0 to index 2 \n",
    "print(L[:3])\n",
    "\n",
    "#printing the elements from index 0 to last index\n",
    "print(L[:])\n",
    "\n",
    "#printing the elements from -3 to -1\n",
    "print(L[-3:])"
   ]
  },
  {
   "cell_type": "code",
   "execution_count": 33,
   "id": "fd79d8ab",
   "metadata": {},
   "outputs": [
    {
     "name": "stdout",
     "output_type": "stream",
     "text": [
      "4\n"
     ]
    }
   ],
   "source": [
    "# Finding the length of a string: Total elements present in the list\n",
    "\n",
    "print(len(L))"
   ]
  },
  {
   "cell_type": "code",
   "execution_count": 34,
   "id": "5500c271",
   "metadata": {},
   "outputs": [
    {
     "name": "stdout",
     "output_type": "stream",
     "text": [
      "[1, 2, 3, 4, 5, 6, 7, 8]\n"
     ]
    }
   ],
   "source": [
    "# Concatenating the two lists\n",
    "\n",
    "L1 =[1,2,3,4]\n",
    "L2 =[5,6,7,8]\n",
    "#concatenate the two lists using + operator\n",
    "\n",
    "print(L1+L2)"
   ]
  },
  {
   "cell_type": "code",
   "execution_count": 35,
   "id": "16279011",
   "metadata": {},
   "outputs": [
    {
     "name": "stdout",
     "output_type": "stream",
     "text": [
      "1\n",
      "2\n",
      "3\n",
      "4\n"
     ]
    }
   ],
   "source": [
    "# Iteration\n",
    "\n",
    "L1 = [1,2,3,4]\n",
    "#iterating the list using for loop\n",
    "\n",
    "for i in L1:\n",
    "    print(i)"
   ]
  },
  {
   "cell_type": "code",
   "execution_count": 112,
   "id": "be8249c5",
   "metadata": {},
   "outputs": [
    {
     "name": "stdout",
     "output_type": "stream",
     "text": [
      "aaa\n",
      "['bbb', ['ccc', 'ddd'], 'eee', 'fff']\n",
      "ggg\n",
      "hhh\n"
     ]
    }
   ],
   "source": [
    "# Iterating the nested list\n",
    "\n",
    "L = ['aaa', ['bbb', ['ccc', 'ddd'], 'eee', 'fff'], 'ggg', 'hhh']\n",
    "#iteration using single for loop \n",
    "\n",
    "for i in L:\n",
    "    print(i)"
   ]
  },
  {
   "cell_type": "code",
   "execution_count": 51,
   "id": "135ab8aa",
   "metadata": {},
   "outputs": [
    {
     "name": "stdout",
     "output_type": "stream",
     "text": [
      "['cc', 'dd', ['eee', 'fff']]\n",
      "['eee', 'fff']\n",
      "eee\n"
     ]
    }
   ],
   "source": [
    "# Accessing the inner list items using positive indexing\n",
    "\n",
    "L = ['a', 'b', ['cc', 'dd', ['eee', 'fff']], 'g', 'h']\n",
    "\n",
    "# Print ['cc', 'dd', ['eee', 'fff']]\n",
    "print(L[2])\n",
    "\n",
    "# Print ['eee', 'fff']\n",
    "print(L[2][2])\n",
    "\n",
    "# Print eee\n",
    "print(L[2][2][0])"
   ]
  },
  {
   "cell_type": "code",
   "execution_count": 52,
   "id": "8b7d639f",
   "metadata": {},
   "outputs": [
    {
     "name": "stdout",
     "output_type": "stream",
     "text": [
      "['cc', 'dd', ['eee', 'fff']]\n",
      "['eee', 'fff']\n",
      "eee\n"
     ]
    }
   ],
   "source": [
    "# Accessing the inner list items using negative indexing\n",
    "\n",
    "L = ['a', 'b', ['cc', 'dd', ['eee', 'fff']], 'g', 'h']\n",
    "\n",
    "# Print ['cc', 'dd', ['eee', 'fff']]\n",
    "print(L[-3])\n",
    "\n",
    "# Print ['eee', 'fff']\n",
    "print(L[-3][-1])\n",
    "\n",
    "# Print eee\n",
    "print(L[-3][-1][-2])"
   ]
  },
  {
   "cell_type": "code",
   "execution_count": 113,
   "id": "79208242",
   "metadata": {},
   "outputs": [
    {
     "name": "stdout",
     "output_type": "stream",
     "text": [
      "['a', ['bb', 'cc', 'xx'], 'd']\n"
     ]
    }
   ],
   "source": [
    "# Add items to the nested list\n",
    "\n",
    "L = ['a', ['bb', 'cc'], 'd']\n",
    "# Print ['a', ['bb', 'cc', 'xx'], 'd']\n",
    "\n",
    "L[1].append('xx')\n",
    "print(L)"
   ]
  },
  {
   "cell_type": "code",
   "execution_count": 38,
   "id": "505f9f82",
   "metadata": {},
   "outputs": [
    {
     "name": "stdout",
     "output_type": "stream",
     "text": [
      "['a', ['xx', 'bb', 'cc'], 'd']\n"
     ]
    }
   ],
   "source": [
    "L = ['a', ['bb', 'cc'], 'd']\n",
    "# Print ['a', ['xx', 'bb', 'cc'], 'd']\n",
    "\n",
    "L[1].insert(0,'xx')\n",
    "print(L)"
   ]
  },
  {
   "cell_type": "code",
   "execution_count": 54,
   "id": "2eb238d4",
   "metadata": {},
   "outputs": [
    {
     "name": "stdout",
     "output_type": "stream",
     "text": [
      "['a', ['bb', 0], 'd']\n"
     ]
    }
   ],
   "source": [
    "# Change the list elements using indexing\n",
    "\n",
    "L = ['a', ['bb', 'cc'], 'd']\n",
    "#assign L[1][1]  to 0\n",
    "# Print ['a', ['bb', 0], 'd']\n",
    "\n",
    "L[1][1] = 0\n",
    "print(L) "
   ]
  },
  {
   "cell_type": "code",
   "execution_count": 53,
   "id": "620d06b4",
   "metadata": {},
   "outputs": [
    {
     "name": "stdout",
     "output_type": "stream",
     "text": [
      "['a', ['bb', 'cc', 1, 2, 3], 'd']\n"
     ]
    }
   ],
   "source": [
    "# Merging one list using another list: extend method\n",
    "\n",
    "L = ['a', ['bb', 'cc'], 'd']\n",
    "# Print ['a', ['bb', 'cc', 1, 2, 3], 'd']\n",
    "\n",
    "L[1].extend([1,2,3])\n",
    "print(L)"
   ]
  },
  {
   "cell_type": "code",
   "execution_count": 55,
   "id": "fcd4a32a",
   "metadata": {},
   "outputs": [
    {
     "name": "stdout",
     "output_type": "stream",
     "text": [
      "['a', ['bb', 'dd'], 'e']\n",
      "cc\n"
     ]
    }
   ],
   "source": [
    "# Remove elements using pop() method\n",
    "\n",
    "L = ['a', ['bb', 'cc', 'dd'], 'e']\n",
    "# Print ['a', ['bb', 'dd'], 'e']\n",
    "\n",
    "x = L[1].pop(1)\n",
    "print(L)\n",
    "\n",
    "# To print removed item\n",
    "print(x)"
   ]
  },
  {
   "cell_type": "code",
   "execution_count": 56,
   "id": "f1b715fd",
   "metadata": {},
   "outputs": [
    {
     "name": "stdout",
     "output_type": "stream",
     "text": [
      "['a', ['bb', 'dd'], 'e']\n"
     ]
    }
   ],
   "source": [
    "# Deleting the elements or list\n",
    "\n",
    "L = ['a', ['bb', 'cc', 'dd'], 'e']\n",
    "# Print ['a', ['bb', 'dd'], 'e']\n",
    "\n",
    "del L[1][1]\n",
    "print(L)"
   ]
  },
  {
   "cell_type": "code",
   "execution_count": 47,
   "id": "a3f8b1ab",
   "metadata": {},
   "outputs": [],
   "source": [
    "# Deleting the complete list object\n",
    "\n",
    "L = ['a', ['bb', 'cc', 'dd'], 'e']\n",
    "\n",
    "#delete the object L\n",
    "del L\n",
    "\n",
    "# If you print the L then you get error"
   ]
  },
  {
   "cell_type": "code",
   "execution_count": 48,
   "id": "3914acc3",
   "metadata": {},
   "outputs": [
    {
     "name": "stdout",
     "output_type": "stream",
     "text": [
      "3\n",
      "2\n"
     ]
    }
   ],
   "source": [
    "# Finding the nested list length\n",
    "\n",
    "L = ['a', ['bb', 'cc'], 'd']\n",
    "\n",
    "print(len(L))\n",
    "# Prints 3\n",
    "\n",
    "#length of the first nested list ['bb', 'cc']\n",
    "print(len(L[1]))\n",
    "# Prints 2"
   ]
  },
  {
   "cell_type": "code",
   "execution_count": 60,
   "id": "4b40bdc9",
   "metadata": {},
   "outputs": [
    {
     "name": "stdout",
     "output_type": "stream",
     "text": [
      "1 2 3 4 5 6 7 8 9 "
     ]
    }
   ],
   "source": [
    "# Iterating the nested list using two for loops\n",
    "\n",
    "L = [[1, 2, 3],[4, 5, 6],[7, 8, 9]]   \n",
    "# Print 1 2 3 4 5 6 7 8 9\n",
    "\n",
    "for list in L:\n",
    "    for number in list:\n",
    "        print(number, end=' ')"
   ]
  },
  {
   "cell_type": "code",
   "execution_count": 61,
   "id": "750f42b9",
   "metadata": {},
   "outputs": [
    {
     "name": "stdout",
     "output_type": "stream",
     "text": [
      "True\n",
      "False\n"
     ]
    }
   ],
   "source": [
    "# Membership : in and not in operators\n",
    "\n",
    "L = ['a', ['bb', 'cc'], 'd']\n",
    "\n",
    "#check 'a' is in the list L :output True if the element present in the list\n",
    "print('a' in L)\n",
    "\n",
    "#check 'd' not in the list L: Output False if the element not present in the list\n",
    "print('d' not in L)\n"
   ]
  },
  {
   "cell_type": "code",
   "execution_count": 98,
   "id": "c5fc1ad8",
   "metadata": {},
   "outputs": [],
   "source": [
    "# Create a student nested list, each list in the nested list contain name, age, gender, marks of the student\n",
    "\n",
    "# Creating a list\n",
    "\n",
    "student_list = [['john',20,'male',70], ['josh',21,'male',77], ['sri',19,'female',80], ['siri',21,'female',89]]"
   ]
  },
  {
   "cell_type": "code",
   "execution_count": 96,
   "id": "9918411d",
   "metadata": {},
   "outputs": [
    {
     "name": "stdout",
     "output_type": "stream",
     "text": [
      "[['john', 20, 'male', 70], ['josh', 21, 'male', 77], ['sri', 19, 'female', 80], ['siri', 21, 'female', 89]]\n"
     ]
    }
   ],
   "source": [
    "# Print student list\n",
    "print(student_list)"
   ]
  },
  {
   "cell_type": "code",
   "execution_count": 99,
   "id": "402d0df8",
   "metadata": {},
   "outputs": [
    {
     "name": "stdout",
     "output_type": "stream",
     "text": [
      "['john', 20, 'male', 70]\n",
      "['josh', 21, 'male', 77]\n",
      "['sri', 19, 'female', 80]\n",
      "['siri', 21, 'female', 89]\n"
     ]
    }
   ],
   "source": [
    "# Print the list using for loop\n",
    "for i in student_list:\n",
    "    print(i)"
   ]
  },
  {
   "cell_type": "code",
   "execution_count": 84,
   "id": "bc4d1ee9",
   "metadata": {},
   "outputs": [
    {
     "name": "stdout",
     "output_type": "stream",
     "text": [
      "['john', 20, 'male', 70]\n",
      "['josh', 21, 'male', 77]\n",
      "['sri', 19, 'female', 80]\n",
      "['siri', 21, 'female', 89]\n"
     ]
    }
   ],
   "source": [
    "# Accessing elements using positive indexing\n",
    "student_list = [['john',20,'male',70], ['josh',21,'male',77], ['sri',19,'female',80], ['siri',21,'female',89]]\n",
    "\n",
    "print(student_list[0])\n",
    "print(student_list[1])\n",
    "print(student_list[2])\n",
    "print(student_list[3])"
   ]
  },
  {
   "cell_type": "code",
   "execution_count": 97,
   "id": "06b6102a",
   "metadata": {},
   "outputs": [
    {
     "name": "stdout",
     "output_type": "stream",
     "text": [
      "['siri', 21, 'female', 89]\n",
      "['sri', 19, 'female', 80]\n",
      "['josh', 21, 'male', 77]\n",
      "['john', 20, 'male', 70]\n"
     ]
    }
   ],
   "source": [
    "# Accessing elements using negative indexing\n",
    "student_list = [['john',20,'male',70], ['josh',21,'male',77], ['sri',19,'female',80], ['siri',21,'female',89]]\n",
    "\n",
    "print(student_list[-1])\n",
    "print(student_list[-2])\n",
    "print(student_list[-3])\n",
    "print(student_list[-4])"
   ]
  },
  {
   "cell_type": "code",
   "execution_count": 86,
   "id": "a0811c87",
   "metadata": {},
   "outputs": [
    {
     "name": "stdout",
     "output_type": "stream",
     "text": [
      "john\n",
      "20\n",
      "male\n",
      "70\n",
      "josh\n",
      "21\n",
      "male\n",
      "77\n",
      "sri\n",
      "19\n",
      "female\n",
      "80\n",
      "siri\n",
      "21\n",
      "female\n",
      "89\n"
     ]
    }
   ],
   "source": [
    "# Print all the elements individually using nested list using two for loops\n",
    "\n",
    "student_list = [['john',20,'male',70], ['josh',21,'male',77], ['sri',19,'female',80], ['siri',21,'female',89]]\n",
    "\n",
    "for list in student_list:\n",
    "    for i in list:\n",
    "        print(i)"
   ]
  },
  {
   "cell_type": "code",
   "execution_count": 89,
   "id": "a607b922",
   "metadata": {},
   "outputs": [
    {
     "name": "stdout",
     "output_type": "stream",
     "text": [
      "[['john', 20, 'male', 70], ['josh', 21, 'male', 77], ['sri', 19, 'female', 80], ['siri', 21, 'female', 89], ['narendra', 22, 'male', 89]]\n"
     ]
    }
   ],
   "source": [
    "# How to append a student into the list\n",
    "\n",
    "student_list = [['john',20,'male',70], ['josh',21,'male',77], ['sri',19,'female',80], ['siri',21,'female',89]]\n",
    "\n",
    "# Append one student details                                  \n",
    "\n",
    "student_list.append(['narendra',22,'male',89])\n",
    "print(student_list)"
   ]
  },
  {
   "cell_type": "code",
   "execution_count": 90,
   "id": "b22b84d8",
   "metadata": {},
   "outputs": [
    {
     "name": "stdout",
     "output_type": "stream",
     "text": [
      "2\n",
      "[['john', 20, 'male', 70], ['josh', 21, 'male', 77], ['sri', 19, 'female', 80], ['siri', 21, 'female', 89]]\n",
      "4\n"
     ]
    }
   ],
   "source": [
    "# Adding multiple students at a time using extend method\n",
    "\n",
    "student_list = [['john',20,'male',70], ['josh',21,'male',77]]\n",
    "\n",
    "#print the length: before extend\n",
    "print(len(student_list))\n",
    "\n",
    "#extend\n",
    "student_list.extend([['sri',19,'female',80], ['siri',21,'female',89]])\n",
    "\n",
    "#print the details\n",
    "print(student_list)\n",
    "\n",
    "#print the length: after\n",
    "print(len(student_list))"
   ]
  },
  {
   "cell_type": "code",
   "execution_count": 93,
   "id": "9bdbdb7c",
   "metadata": {},
   "outputs": [
    {
     "name": "stdout",
     "output_type": "stream",
     "text": [
      "[['john', 20, 'male', 70], ['josh', 21, 'male', 77], ['sri', 19, 'female', 80], ['siri', 21, 'female', 89]]\n",
      "[['john', 20, 'male', 70], ['sri', 19, 'female', 80], ['siri', 21, 'female', 89]]\n"
     ]
    }
   ],
   "source": [
    "# Deleting\n",
    "\n",
    "student_list = [['john',20,'male',70], ['josh',21,'male',77], ['sri',19,'female',80], ['siri',21,'female',89]]\n",
    "\n",
    "#print the data : before deleting\n",
    "print(student_list)\n",
    "\n",
    "#deleting one item\n",
    "del student_list[1]\n",
    "\n",
    "#print the data : after deleting\n",
    "print(student_list)"
   ]
  },
  {
   "cell_type": "code",
   "execution_count": 1,
   "id": "0f3e968b",
   "metadata": {},
   "outputs": [
    {
     "name": "stdout",
     "output_type": "stream",
     "text": [
      "(['john', 20, 'male', 70], ['josh', 21, 'male', 77], ['sri', 19, 'female', 80], ['siri', 21, 'female', 89])\n"
     ]
    }
   ],
   "source": [
    "# CONCATENATION\n",
    "student_list1 =['john',20,'male',70], ['josh',21,'male',77]\n",
    "student_list2 =['sri',19,'female',80], ['siri',21,'female',89]\n",
    "#concatenate the two lists using + operator\n",
    "print(student_list1+student_list2)"
   ]
  },
  {
   "cell_type": "code",
   "execution_count": 114,
   "id": "6e66bc10",
   "metadata": {},
   "outputs": [
    {
     "name": "stdout",
     "output_type": "stream",
     "text": [
      "Original List: [10, 20, 30, 40, 50, 60, 70, 80, 90]\n",
      "\n",
      "Element at index 5: 60\n",
      "\n",
      "Sliced Lists: \n",
      "[40, 60, 80]\n",
      "[10, 30, 50, 70, 90]\n",
      "[10, 20, 30, 40, 50, 60, 70, 80, 90]\n"
     ]
    }
   ],
   "source": [
    "# Indexing and slicing \n",
    "\n",
    "# Initialize list\n",
    "List = [10, 20, 30, 40, 50, 60, 70, 80, 90]\n",
    "\n",
    "# Show original list\n",
    "print(\"Original List:\", List)\n",
    "\n",
    "#element at index 5\n",
    "print(\"\\nElement at index 5:\",List[5])\n",
    "\n",
    "print(\"\\nSliced Lists: \")\n",
    "\n",
    "# Display sliced list\n",
    "print(List[3:8:2])\n",
    "\n",
    "# Display sliced list\n",
    "print(List[::2])\n",
    "\n",
    "# Display sliced list\n",
    "print(List[::])"
   ]
  },
  {
   "cell_type": "code",
   "execution_count": null,
   "id": "aa6c747f",
   "metadata": {},
   "outputs": [],
   "source": []
  },
  {
   "cell_type": "code",
   "execution_count": null,
   "id": "3eb3703e",
   "metadata": {},
   "outputs": [],
   "source": [
    "# Create a student nested list, each list in the nested list contain name, age, gender, marks of the student\n",
    "\n",
    "# Creating a list\n",
    "\n",
    "student_list = [['john',20,'male',70], ['josh',21,'male',77], ['sri',19,'female',80], ['siri',21,'female',89]]\n",
    "\n",
    "# Print student list\n",
    "print(student_list)\n",
    "\n",
    "# Print the list using for loop\n",
    "for i in student_list:\n",
    "    print(i)\n",
    "    \n",
    "# Accessing elements using positive indexing\n",
    "student_list = [['john',20,'male',70], ['josh',21,'male',77], ['sri',19,'female',80], ['siri',21,'female',89]]\n",
    "\n",
    "print(student_list[0])\n",
    "print(student_list[1])\n",
    "print(student_list[2])\n",
    "print(student_list[3])\n",
    "\n",
    "# Accessing elements using negative indexing\n",
    "student_list = [['john',20,'male',70], ['josh',21,'male',77], ['sri',19,'female',80], ['siri',21,'female',89]]\n",
    "\n",
    "print(student_list[-1])\n",
    "print(student_list[-2])\n",
    "print(student_list[-3])\n",
    "print(student_list[-4])\n",
    "\n",
    "# Print all the elements individually using nested list using two for loops\n",
    "\n",
    "student_list = [['john',20,'male',70], ['josh',21,'male',77], ['sri',19,'female',80], ['siri',21,'female',89]]\n",
    "\n",
    "for list in student_list:\n",
    "    for i in list:\n",
    "        print(i)\n",
    "        \n",
    "# How to append a student into the list\n",
    "\n",
    "student_list = [['john',20,'male',70], ['josh',21,'male',77], ['sri',19,'female',80], ['siri',21,'female',89]]\n",
    "\n",
    "# Append one student details                                  \n",
    "\n",
    "student_list.append(['narendra',22,'male',89])\n",
    "print(student_list)\n",
    "\n",
    "# Adding multiple students at a time using extend method\n",
    "\n",
    "student_list = [['john',20,'male',70], ['josh',21,'male',77]]\n",
    "\n",
    "#print the length: before extend\n",
    "print(len(student_list))\n",
    "\n",
    "#extend\n",
    "student_list.extend([['sri',19,'female',80], ['siri',21,'female',89]])\n",
    "\n",
    "#print the details\n",
    "print(student_list)\n",
    "\n",
    "#print the length: after\n",
    "print(len(student_list))\n",
    "\n",
    "# Deleting\n",
    "\n",
    "student_list = [['john',20,'male',70], ['josh',21,'male',77], ['sri',19,'female',80], ['siri',21,'female',89]]\n",
    "\n",
    "#print the data : before deleting\n",
    "print(student_list)\n",
    "\n",
    "#deleting one item\n",
    "del student_list[1]\n",
    "\n",
    "#print the data : after deleting\n",
    "print(student_list)"
   ]
  }
 ],
 "metadata": {
  "kernelspec": {
   "display_name": "Python 3 (ipykernel)",
   "language": "python",
   "name": "python3"
  },
  "language_info": {
   "codemirror_mode": {
    "name": "ipython",
    "version": 3
   },
   "file_extension": ".py",
   "mimetype": "text/x-python",
   "name": "python",
   "nbconvert_exporter": "python",
   "pygments_lexer": "ipython3",
   "version": "3.9.4"
  }
 },
 "nbformat": 4,
 "nbformat_minor": 5
}
