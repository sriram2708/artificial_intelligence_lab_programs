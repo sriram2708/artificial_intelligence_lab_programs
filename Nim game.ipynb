{
 "cells": [
  {
   "cell_type": "code",
   "execution_count": 1,
   "id": "83671e33",
   "metadata": {},
   "outputs": [
    {
     "name": "stdout",
     "output_type": "stream",
     "text": [
      "Nim game!!\n",
      "We are having 12 tokens\n",
      "How many tokens would you like to take? 2\n",
      "You take 2 tokens.\n",
      "10 tokens remaining.\n",
      "\n",
      "Computer takes  2  tokens.\n",
      "8  tokens remaining.\n",
      "\n",
      "How many tokens would you like to take? 1\n",
      "You take 1 tokens.\n",
      "7 tokens remaining.\n",
      "\n",
      "Computer takes  3  tokens.\n",
      "4  tokens remaining.\n",
      "\n",
      "How many tokens would you like to take? 2\n",
      "You take 2 tokens.\n",
      "2 tokens remaining.\n",
      "\n",
      "Computer takes  2  tokens.\n",
      "0  tokens remaining.\n",
      "\n",
      "Computer wins!\n"
     ]
    }
   ],
   "source": [
    "\n",
    "print(\"Nim game!!\\nWe are having 12 tokens\")\n",
    "\n",
    "def getTokens(curTokens):\n",
    "    global tokens\n",
    "    \n",
    "    print(\"How many tokens would you like to take? \", end='')\n",
    "    take = int(input())\n",
    "\n",
    "    if (take < 1 or take > 3):\n",
    "        print(\"Number must be between 1 and 3.\\n\")\n",
    "        getTokens(curTokens)\n",
    "        return\n",
    "\n",
    "    tokens = curTokens - take\n",
    "    print('You take',take ,'tokens.')\n",
    "    print(tokens ,'tokens remaining.\\n')\n",
    "\n",
    "def compTurn(curTokens):\n",
    "    global tokens\n",
    "\n",
    "    take = curTokens % 4\n",
    "    tokens = curTokens - take\n",
    "    print ('Computer takes ',take, ' tokens.')\n",
    "    print (tokens,' tokens remaining.\\n')\n",
    "    \n",
    "\n",
    "tokens = 12\n",
    "while (tokens > 0):\n",
    "    getTokens(tokens)\n",
    "    compTurn(tokens)\n",
    "\n",
    "print(\"Computer wins!\")"
   ]
  },
  {
   "cell_type": "code",
   "execution_count": null,
   "id": "d41804ff",
   "metadata": {},
   "outputs": [],
   "source": []
  }
 ],
 "metadata": {
  "kernelspec": {
   "display_name": "Python 3 (ipykernel)",
   "language": "python",
   "name": "python3"
  },
  "language_info": {
   "codemirror_mode": {
    "name": "ipython",
    "version": 3
   },
   "file_extension": ".py",
   "mimetype": "text/x-python",
   "name": "python",
   "nbconvert_exporter": "python",
   "pygments_lexer": "ipython3",
   "version": "3.9.4"
  }
 },
 "nbformat": 4,
 "nbformat_minor": 5
}
